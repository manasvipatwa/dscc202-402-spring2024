{
 "cells": [
  {
   "cell_type": "markdown",
   "metadata": {
    "application/vnd.databricks.v1+cell": {
     "cellMetadata": {
      "byteLimit": 2048000,
      "rowLimit": 10000
     },
     "inputWidgets": {},
     "nuid": "fc749083-2211-485c-943f-640e198b2c70",
     "showTitle": false,
     "title": ""
    }
   },
   "source": [
    "## DSCC202-402 Data Science at Scale Final Project\n",
    "### Tracking Tweet sentiment at scale using a pretrained transformer (classifier)\n",
    "<p>Consider the following illustration of the end to end system that you will be building.  Each student should do their own work.  The project will demonstrate your understanding of Spark Streaming, the medalion data architecture using Delta Lake, Spark Inference at Scale using an MLflow packaged model as well as Exploritory Data Analysis and System Tracking and Monitoring.</p>\n",
    "<br><br>\n",
    "<img src=\"https://data-science-at-scale.s3.amazonaws.com/images/pipeline.drawio.png\">\n",
    "\n",
    "<p>\n",
    "You will be pulling an updated copy of the course GitHub repositiory: <a href=\"https://github.com/lpalum/dscc202-402-spring2024\">The Repo</a>.  If you are unclear on how to pull an updated copy using the GitHub command line, the following <a href=\"https://techwritingmatters.com/how-to-update-your-forked-repository-on-github\">document</a> is helpful.  Be sure to add the professors and TAs as collaborators on your project. \n",
    "\n",
    "- lpalum@gmail.com GitHub ID: lpalum\n",
    "- ajay.anand@rochester.edu GitHub ID: ajayan12\n",
    "- divyamunot1999@gmail.com GitHub ID: divyamunot\n",
    "- ylong6@u.Rochester.edu GitHub ID: NinaLong2077\n",
    "\n",
    "Once you have updates your fork of the repository you should see the following template project that is resident in the final_project directory.\n",
    "</p>\n",
    "\n",
    "<img src=\"https://data-science-at-scale.s3.amazonaws.com/images/notebooks.drawio.png\">\n",
    "\n",
    "<p>\n",
    "You can then pull your project into the Databrick Workspace using the <a href=\"https://www.databricks.training/step-by-step/importing-courseware-from-github/index.html\">Repos</a> feature.\n",
    "Each student is expected to submit the URL of their project on GitHub with their code checked in on the main/master branch.  This illustration highlights the branching scheme that you may use to work on your code in steps and then merge your submission into your master branch before submitting.\n",
    "</p>\n",
    "<img src=\"https://data-science-at-scale.s3.amazonaws.com/images/github.drawio.png\">\n",
    "<p>\n",
    "Work your way through this notebook which will give you the steps required to submit a complete and compliant project.  The following illustration and associated data dictionary specifies the transformations and data that you are to generate for each step in the medallion pipeline.\n",
    "</p>\n",
    "<br><br>\n",
    "<img src=\"https://data-science-at-scale.s3.amazonaws.com/images/dataframes.drawio.png\">\n",
    "\n",
    "#### Bronze Data - raw ingest\n",
    "- date - string in the source json\n",
    "- user - string in the source json\n",
    "- text - tweet string in the source json\n",
    "- sentiment - the given sentiment of the text as determined by an unknown model that is provided in the source json\n",
    "- source_file - the path of the source json file the this row of data was read from\n",
    "- processing_time - a timestamp of when you read this row from the source json\n",
    "\n",
    "#### Silver Data - Bronze Preprocessing\n",
    "- timestamp - convert date string in the bronze data to a timestamp\n",
    "- mention - every @username mentioned in the text string in the bronze data gets a row in this silver data table.\n",
    "- cleaned_text - the bronze text data with the mentions (@username) removed.\n",
    "- sentiment - the given sentiment that was associated with the text in the bronze table.\n",
    "\n",
    "#### Gold Data - Silver Table Inference\n",
    "- timestamp - the timestamp from the silver data table rows\n",
    "- mention - the mention from the silver data table rows\n",
    "- cleaned_text - the cleaned_text from the silver data table rows\n",
    "- sentiment - the given sentiment from the silver data table rows\n",
    "- predicted_score - score out of 100 from the Hugging Face Sentiment Transformer\n",
    "- predicted_sentiment - string representation of the sentiment\n",
    "- sentiment_id - 0 for negative and 1 for postive associated with the given sentiment\n",
    "- predicted_sentiment_id - 0 for negative and 1 for positive assocaited with the Hugging Face Sentiment Transformer\n",
    "\n",
    "#### Application Data - Gold Table Aggregation\n",
    "- min_timestamp - the oldest timestamp on a given mention (@username)\n",
    "- max_timestamp - the newest timestamp on a given mention (@username)\n",
    "- mention - the user (@username) that this row pertains to.\n",
    "- negative - total negative tweets directed at this mention (@username)\n",
    "- neutral - total neutral tweets directed at this mention (@username)\n",
    "- positive - total positive tweets directed at this mention (@username)\n",
    "\n",
    "When you are designing your approach, one of the main decisions that you will need to make is how you are going to orchestrate the streaming data processing in your pipeline.  There are several valid approaches.  First, you may choose to start the bronze_stream and let it complete (read and append all of the source data) before preceeding and starting up the silver_stream.  This approach has latency associated with it but it will allow your code to proceed in a linear fashion and process all the data by the end of your notebook execution.  Another potential approach is to start all the streams and have a \"watch\" method to determine when the pipeline has processed sufficient or all of the source data before stopping and displaying results.  Both of these approaches are valid and have different implications on how you will trigger your steams and how you will gate the execution of your pipeline.  Think through how you want to proceed and ask questions if you need guidance. The following references may be helpful:\n",
    "- [Spark Structured Streaming Programming Guide](https://spark.apache.org/docs/latest/structured-streaming-programming-guide.html)\n",
    "- [Databricks Autoloader - Cloudfiles](https://docs.databricks.com/en/ingestion/auto-loader/index.html)\n",
    "\n",
    "### Be sure that your project runs end to end when *Run all* is executued on this notebook! (15 Points out of 60)"
   ]
  },
  {
   "cell_type": "code",
   "execution_count": 0,
   "metadata": {
    "application/vnd.databricks.v1+cell": {
     "cellMetadata": {
      "byteLimit": 2048000,
      "rowLimit": 10000
     },
     "inputWidgets": {},
     "nuid": "068f25d0-1387-4342-89cf-ce82a8d614ce",
     "showTitle": true,
     "title": "Pull in the Includes & Utiltites"
    }
   },
   "outputs": [],
   "source": [
    "%run ./includes/includes"
   ]
  },
  {
   "cell_type": "code",
   "execution_count": 0,
   "metadata": {
    "application/vnd.databricks.v1+cell": {
     "cellMetadata": {
      "byteLimit": 2048000,
      "rowLimit": 10000
     },
     "inputWidgets": {},
     "nuid": "3ca3ed9c-d262-4b6d-a152-3f73feff8db7",
     "showTitle": false,
     "title": ""
    }
   },
   "outputs": [],
   "source": [
    "%run ./includes/utilities"
   ]
  },
  {
   "cell_type": "code",
   "execution_count": 0,
   "metadata": {
    "application/vnd.databricks.v1+cell": {
     "cellMetadata": {
      "byteLimit": 2048000,
      "rowLimit": 10000
     },
     "inputWidgets": {},
     "nuid": "6512bf1b-50e0-4a4b-84a9-e280a6260b56",
     "showTitle": true,
     "title": "Notebook Control Widgets (maybe helpful)"
    }
   },
   "outputs": [],
   "source": [
    "\"\"\"\n",
    "Adding a widget to the notebook to control the clearing of a previous run.\n",
    "or stopping the active streams using routines defined in the utilities notebook\n",
    "\"\"\"\n",
    "dbutils.widgets.removeAll()\n",
    "\n",
    "dbutils.widgets.dropdown(\"clear_previous_run\", \"No\", [\"No\",\"Yes\"])\n",
    "if (getArgument(\"clear_previous_run\") == \"Yes\"):\n",
    "    clear_previous_run()\n",
    "    print(\"Cleared all previous data.\")\n",
    "\n",
    "dbutils.widgets.dropdown(\"stop_streams\", \"No\", [\"No\",\"Yes\"])\n",
    "if (getArgument(\"stop_streams\") == \"Yes\"):\n",
    "    stop_all_streams()\n",
    "    print(\"Stopped all active streams.\")\n",
    "\n",
    "from delta import *\n",
    "dbutils.widgets.dropdown(\"optimize_tables\", \"No\", [\"No\",\"Yes\"])\n",
    "if (getArgument(\"optimize_tables\") == \"Yes\"):\n",
    "    # Suck up those small files that we have been appending.\n",
    "    DeltaTable.forPath(spark, BRONZE_DELTA).optimize().executeCompaction()\n",
    "    # Suck up those small files that we have been appending.\n",
    "    DeltaTable.forPath(spark, SILVER_DELTA).optimize().executeCompaction()\n",
    "    # Suck up those small files that we have been appending.\n",
    "    DeltaTable.forPath(spark, GOLD_DELTA).optimize().executeCompaction()\n",
    "    print(\"Optimized all of the Delta Tables\")"
   ]
  },
  {
   "cell_type": "markdown",
   "metadata": {
    "application/vnd.databricks.v1+cell": {
     "cellMetadata": {
      "byteLimit": 2048000,
      "rowLimit": 10000
     },
     "inputWidgets": {},
     "nuid": "e8ce7c13-7f8f-4e11-b50c-fdaebbcf3f99",
     "showTitle": false,
     "title": ""
    }
   },
   "source": [
    "## 1.0 Import your libraries here...\n",
    "- Are your shuffle partitions consistent with your cluster and your workload?\n",
    "- Do you have the necessary libraries to perform the required operations in the pipeline/application?"
   ]
  },
  {
   "cell_type": "code",
   "execution_count": 0,
   "metadata": {
    "application/vnd.databricks.v1+cell": {
     "cellMetadata": {
      "byteLimit": 2048000,
      "rowLimit": 10000
     },
     "inputWidgets": {},
     "nuid": "75f93f0b-2035-4e3e-a667-e53b1a1e151b",
     "showTitle": false,
     "title": ""
    }
   },
   "outputs": [],
   "source": [
    "from pyspark.sql import SparkSession\n",
    "from pyspark.sql.functions import when, col, input_file_name, current_timestamp, from_json, expr, explode, split, to_timestamp, regexp_replace\n",
    "from pyspark.sql import functions as F\n",
    "from pyspark.sql.types import StructType, StructField, StringType, ArrayType, FloatType, IntegerType\n",
    "from transformers import pipeline\n",
    "import mlflow.pyfunc\n",
    "from sklearn.metrics import precision_score, recall_score, f1_score, confusion_matrix, ConfusionMatrixDisplay\n",
    "import matplotlib.pyplot as plt\n",
    "import boto3  \n",
    "from transformers import BertTokenizer  \n",
    "from delta.tables import DeltaTable\n",
    "import mlflow\n",
    "import seaborn as sns\n"
   ]
  },
  {
   "cell_type": "code",
   "execution_count": 0,
   "metadata": {
    "application/vnd.databricks.v1+cell": {
     "cellMetadata": {
      "byteLimit": 2048000,
      "rowLimit": 10000
     },
     "inputWidgets": {},
     "nuid": "67bafbb7-d34e-4e86-b159-b2e062faa1d0",
     "showTitle": false,
     "title": ""
    }
   },
   "outputs": [],
   "source": [
    "# Initialize Spark session\n",
    "spark = SparkSession.builder \\\n",
    "    .appName(\"Tweet Processing\") \\\n",
    "    .config(\"spark.sql.shuffle.partitions\", \"8\") \\\n",
    "    .getOrCreate()\n"
   ]
  },
  {
   "cell_type": "markdown",
   "metadata": {
    "application/vnd.databricks.v1+cell": {
     "cellMetadata": {
      "byteLimit": 2048000,
      "rowLimit": 10000
     },
     "inputWidgets": {},
     "nuid": "5b6abf3c-2bbb-4df6-8a11-4d5473b7f8e4",
     "showTitle": false,
     "title": ""
    }
   },
   "source": [
    "- Are your shuffle partitions consistent with your cluster and your workload?\n",
    "\n",
    "    Solution: With a cluster of 4 cores, we need number of partitions equal to multiple of 4. Setting Spark shuffle partitions to 8 allows for double the number of partitions relative to your cores. This can help improve parallelism and better utilize each core, especially during operations that involve data shuffling. \n",
    "\n",
    "\n",
    "- Do you have the necessary libraries to perform the required operations in the pipeline/application?\n",
    "\n",
    "    Solution: I have imported the necessary libraries to perform the required operations in the pipeline."
   ]
  },
  {
   "cell_type": "markdown",
   "metadata": {
    "application/vnd.databricks.v1+cell": {
     "cellMetadata": {
      "byteLimit": 2048000,
      "rowLimit": 10000
     },
     "inputWidgets": {},
     "nuid": "2b7624b4-0aa5-46b7-9767-52f462b2c574",
     "showTitle": false,
     "title": ""
    }
   },
   "source": [
    "## 2.0 Use the utility functions to ...\n",
    "- Read the source file directory listing\n",
    "- Count the source files (how many are there?)\n",
    "- print the contents of one of the files"
   ]
  },
  {
   "cell_type": "code",
   "execution_count": 0,
   "metadata": {
    "application/vnd.databricks.v1+cell": {
     "cellMetadata": {
      "byteLimit": 2048000,
      "rowLimit": 10000
     },
     "inputWidgets": {},
     "nuid": "453e0ca4-d2f8-4bf8-983b-6fa65ce1968d",
     "showTitle": false,
     "title": ""
    }
   },
   "outputs": [],
   "source": [
    "# Reading the source file directory listing\n",
    "source_files_df = get_source_listing_df()\n",
    "file_count = source_files_df.count()"
   ]
  },
  {
   "cell_type": "code",
   "execution_count": 0,
   "metadata": {
    "application/vnd.databricks.v1+cell": {
     "cellMetadata": {
      "byteLimit": 2048000,
      "rowLimit": 10000
     },
     "inputWidgets": {},
     "nuid": "49c2d04d-09c2-4b46-ba11-f77fe47050ac",
     "showTitle": false,
     "title": ""
    }
   },
   "outputs": [],
   "source": [
    "\n",
    "# Counting the source files \n",
    "print(f\"Number of source files: {file_count}\")"
   ]
  },
  {
   "cell_type": "code",
   "execution_count": 0,
   "metadata": {
    "application/vnd.databricks.v1+cell": {
     "cellMetadata": {
      "byteLimit": 2048000,
      "rowLimit": 10000
     },
     "inputWidgets": {},
     "nuid": "161ee7cb-8033-4581-8a7f-29599023e503",
     "showTitle": false,
     "title": ""
    }
   },
   "outputs": [],
   "source": [
    "print(\"Columns available in DataFrame:\", source_files_df.columns)\n"
   ]
  },
  {
   "cell_type": "code",
   "execution_count": 0,
   "metadata": {
    "application/vnd.databricks.v1+cell": {
     "cellMetadata": {
      "byteLimit": 2048000,
      "rowLimit": 10000
     },
     "inputWidgets": {},
     "nuid": "6c342687-2860-4b7c-8d79-54b648ef0f46",
     "showTitle": false,
     "title": ""
    }
   },
   "outputs": [],
   "source": [
    "# Step 3: Print the content of one file \n",
    "first_file_path = source_files_df.head(1)['File Name'].values[0]\n",
    "show_s3_file_contents(first_file_path)"
   ]
  },
  {
   "cell_type": "markdown",
   "metadata": {
    "application/vnd.databricks.v1+cell": {
     "cellMetadata": {
      "byteLimit": 2048000,
      "rowLimit": 10000
     },
     "inputWidgets": {},
     "nuid": "1676aed7-527f-4ea7-9d3b-52544e8c1e37",
     "showTitle": false,
     "title": ""
    }
   },
   "source": [
    "## 3.0 Transform the Raw Data to Bronze Data using a stream\n",
    "- define the schema for the raw data\n",
    "- setup a read stream using cloudfiles and the source data format\n",
    "- setup a write stream using cloudfiles to append to the bronze delta table\n",
    "- enforce schema\n",
    "- allow a new schema to be merged into the bronze delta table\n",
    "- Use the defined BRONZE_CHECKPOINT and BRONZE_DELTA paths defines in the includes\n",
    "- name your raw to bronze stream as bronze_stream\n",
    "- transform the raw data to the bronze data using the data definition at the top of the notebook"
   ]
  },
  {
   "cell_type": "code",
   "execution_count": 0,
   "metadata": {
    "application/vnd.databricks.v1+cell": {
     "cellMetadata": {
      "byteLimit": 2048000,
      "rowLimit": 10000
     },
     "inputWidgets": {},
     "nuid": "6f8cfbe6-9feb-444f-9b81-d30e9af085ad",
     "showTitle": false,
     "title": ""
    }
   },
   "outputs": [],
   "source": [
    "# Define the schema for the raw tweet data\n",
    "tweet_schema = StructType([\n",
    "    StructField(\"date\", StringType(), True),\n",
    "    StructField(\"user\", StringType(), True),\n",
    "    StructField(\"text\", StringType(), True),\n",
    "    StructField(\"sentiment\", StringType(), True)\n",
    "])\n",
    "\n",
    "print(\"Tweet schema defined.\")"
   ]
  },
  {
   "cell_type": "code",
   "execution_count": 0,
   "metadata": {
    "application/vnd.databricks.v1+cell": {
     "cellMetadata": {
      "byteLimit": 2048000,
      "rowLimit": 10000
     },
     "inputWidgets": {},
     "nuid": "47fa0c55-d2f9-44af-a4c1-4c45badaf547",
     "showTitle": false,
     "title": ""
    }
   },
   "outputs": [],
   "source": [
    "# Read stream from CloudFiles, applying the defined schema\n",
    "raw_tweet_df = (\n",
    "    spark.readStream\n",
    "    .format(\"cloudFiles\")\n",
    "    .option(\"cloudFiles.format\", \"json\")\n",
    "    .schema(tweet_schema)\n",
    "    .load(TWEET_SOURCE_PATH)\n",
    ")\n",
    "\n",
    "print(\"Read stream for raw tweet data setup.\")"
   ]
  },
  {
   "cell_type": "code",
   "execution_count": 0,
   "metadata": {
    "application/vnd.databricks.v1+cell": {
     "cellMetadata": {
      "byteLimit": 2048000,
      "rowLimit": 10000
     },
     "inputWidgets": {},
     "nuid": "0d1d8110-c066-4f62-b945-350c977af4ad",
     "showTitle": false,
     "title": ""
    }
   },
   "outputs": [],
   "source": [
    "display(raw_tweet_df, truncate = False)"
   ]
  },
  {
   "cell_type": "code",
   "execution_count": 0,
   "metadata": {
    "application/vnd.databricks.v1+cell": {
     "cellMetadata": {
      "byteLimit": 2048000,
      "rowLimit": 10000
     },
     "inputWidgets": {},
     "nuid": "f64b99f8-72f3-46c2-8367-105733765775",
     "showTitle": false,
     "title": ""
    }
   },
   "outputs": [],
   "source": [
    "# Add the new columns to the DataFrame\n",
    "bronze_tweet_df = (\n",
    "    raw_tweet_df\n",
    "    .withColumn(\"source_file\", input_file_name())  # Extract file path\n",
    "    .withColumn(\"processing_time\", current_timestamp())  # Current timestamp\n",
    ")\n",
    "\n",
    "print(\"Transformation to Bronze data completed.\")"
   ]
  },
  {
   "cell_type": "code",
   "execution_count": 0,
   "metadata": {
    "application/vnd.databricks.v1+cell": {
     "cellMetadata": {
      "byteLimit": 2048000,
      "rowLimit": 10000
     },
     "inputWidgets": {},
     "nuid": "fd2a679a-3ce4-4c10-9965-42e39dfde898",
     "showTitle": false,
     "title": ""
    }
   },
   "outputs": [],
   "source": [
    "display(bronze_tweet_df, truncate = False)"
   ]
  },
  {
   "cell_type": "code",
   "execution_count": 0,
   "metadata": {
    "application/vnd.databricks.v1+cell": {
     "cellMetadata": {
      "byteLimit": 2048000,
      "rowLimit": 10000
     },
     "inputWidgets": {},
     "nuid": "0915b35a-e05e-4416-95b6-e720af5af31d",
     "showTitle": false,
     "title": ""
    }
   },
   "outputs": [],
   "source": [
    "# Write the stream to the Bronze Delta table, allowing schema evolution\n",
    "bronze_stream = (\n",
    "    bronze_tweet_df\n",
    "    .writeStream\n",
    "    .format(\"delta\")\n",
    "    .outputMode(\"append\")\n",
    "    .option(\"checkpointLocation\", BRONZE_CHECKPOINT)\n",
    "    .option(\"mergeSchema\", \"true\")  # Allow new schema to be merged\n",
    "    .trigger(availableNow = True)\n",
    "    .start(BRONZE_DELTA)\n",
    ")\n",
    "\n",
    "print(\"Write stream to Bronze Delta table started as bronze_stream.\")"
   ]
  },
  {
   "cell_type": "code",
   "execution_count": 0,
   "metadata": {
    "application/vnd.databricks.v1+cell": {
     "cellMetadata": {
      "byteLimit": 2048000,
      "rowLimit": 10000
     },
     "inputWidgets": {},
     "nuid": "62dba85a-65a5-4223-a2c7-934b1f6dd079",
     "showTitle": false,
     "title": ""
    }
   },
   "outputs": [],
   "source": [
    "bronze_stream.awaitTermination()"
   ]
  },
  {
   "cell_type": "code",
   "execution_count": 0,
   "metadata": {
    "application/vnd.databricks.v1+cell": {
     "cellMetadata": {
      "byteLimit": 2048000,
      "rowLimit": 10000
     },
     "inputWidgets": {},
     "nuid": "a6faa505-53f9-4ea0-b4b8-3ca936640071",
     "showTitle": false,
     "title": ""
    }
   },
   "outputs": [],
   "source": [
    "bronze_stream.status"
   ]
  },
  {
   "cell_type": "markdown",
   "metadata": {
    "application/vnd.databricks.v1+cell": {
     "cellMetadata": {
      "byteLimit": 2048000,
      "rowLimit": 10000
     },
     "inputWidgets": {},
     "nuid": "9bc3e824-d218-43e5-a43b-4c6dbe31950d",
     "showTitle": false,
     "title": ""
    }
   },
   "source": [
    "## 4.0 Bronze Data Exploratory Data Analysis\n",
    "- How many tweets are captured in your Bronze Table?\n",
    "  \n",
    "  Solution: 200000\n",
    "- Are there any columns that contain Nan or Null values?  If so how many and what will you do in your silver transforms to address this?\n",
    "  \n",
    "  Solution: There are no columns that contain null values.\n",
    "- Count the number of tweets by each unique user handle and sort the data by descending count.\n",
    "- How many tweets have at least one mention (@) how many tweet have no mentions (@)\n",
    "  \n",
    "  Solution: 93817 tweets have at least one mention and 106183 have no mentions.\n",
    "- Plot a bar chart that shows the top 20 tweeters (users)\n"
   ]
  },
  {
   "cell_type": "code",
   "execution_count": 0,
   "metadata": {
    "application/vnd.databricks.v1+cell": {
     "cellMetadata": {
      "byteLimit": 2048000,
      "rowLimit": 10000
     },
     "inputWidgets": {},
     "nuid": "38685707-96df-405c-9032-ca544947b07f",
     "showTitle": false,
     "title": ""
    }
   },
   "outputs": [],
   "source": [
    "spark.readStream.load(BRONZE_DELTA).createOrReplaceTempView('bronze_temp')"
   ]
  },
  {
   "cell_type": "code",
   "execution_count": 0,
   "metadata": {
    "application/vnd.databricks.v1+cell": {
     "cellMetadata": {
      "byteLimit": 2048000,
      "implicitDf": true,
      "rowLimit": 10000
     },
     "inputWidgets": {},
     "nuid": "091ec59c-d968-4acf-b56f-cc9178cd0693",
     "showTitle": false,
     "title": ""
    }
   },
   "outputs": [],
   "source": [
    "%sql\n",
    "-- # ENTER YOUR CODE HERE\n",
    "SELECT * FROM bronze_temp"
   ]
  },
  {
   "cell_type": "code",
   "execution_count": 0,
   "metadata": {
    "application/vnd.databricks.v1+cell": {
     "cellMetadata": {
      "byteLimit": 2048000,
      "implicitDf": true,
      "rowLimit": 10000
     },
     "inputWidgets": {},
     "nuid": "41117102-f19d-4c38-93e0-6f55736f4901",
     "showTitle": false,
     "title": ""
    }
   },
   "outputs": [],
   "source": [
    "%sql\n",
    "SELECT COUNT(*) FROM bronze_temp"
   ]
  },
  {
   "cell_type": "code",
   "execution_count": 0,
   "metadata": {
    "application/vnd.databricks.v1+cell": {
     "cellMetadata": {
      "byteLimit": 2048000,
      "implicitDf": true,
      "rowLimit": 10000
     },
     "inputWidgets": {},
     "nuid": "01452845-33a5-4d7c-aa5b-fbb26e815571",
     "showTitle": false,
     "title": ""
    }
   },
   "outputs": [],
   "source": [
    "%sql\n",
    "SELECT\n",
    "  COUNT(IF(date IS NULL, 1, NULL)) AS missing_dates, \n",
    "  COUNT(IF(user IS NULL, 1, NULL)) AS missing_users, \n",
    "  COUNT(IF(text IS NULL, 1, NULL)) AS missing_texts,\n",
    "  COUNT(IF(source_file IS NULL, 1, NULL)) AS missing_source_file,\n",
    "  COUNT(IF(sentiment IS NULL, 1, NULL)) AS missing_sentiments\n",
    "FROM bronze_temp"
   ]
  },
  {
   "cell_type": "markdown",
   "metadata": {
    "application/vnd.databricks.v1+cell": {
     "cellMetadata": {
      "byteLimit": 2048000,
      "rowLimit": 10000
     },
     "inputWidgets": {},
     "nuid": "8e57d894-c6d8-46af-a656-77c03043cdb9",
     "showTitle": false,
     "title": ""
    }
   },
   "source": []
  },
  {
   "cell_type": "code",
   "execution_count": 0,
   "metadata": {
    "application/vnd.databricks.v1+cell": {
     "cellMetadata": {
      "byteLimit": 2048000,
      "implicitDf": true,
      "rowLimit": 10000
     },
     "inputWidgets": {},
     "nuid": "289c9c62-c2b3-47cd-a995-341f4082406f",
     "showTitle": false,
     "title": ""
    }
   },
   "outputs": [],
   "source": [
    "%sql\n",
    "SELECT user, COUNT(*) as total_tweets\n",
    "FROM bronze_temp\n",
    "GROUP BY user\n",
    "ORDER BY total_tweets DESC"
   ]
  },
  {
   "cell_type": "code",
   "execution_count": 0,
   "metadata": {
    "application/vnd.databricks.v1+cell": {
     "cellMetadata": {
      "byteLimit": 2048000,
      "implicitDf": true,
      "rowLimit": 10000
     },
     "inputWidgets": {},
     "nuid": "75b4c5ae-cd25-4837-9e08-078657833ffd",
     "showTitle": false,
     "title": ""
    }
   },
   "outputs": [],
   "source": [
    "%sql\n",
    "SELECT \n",
    "  SUM(CASE WHEN text LIKE '%@%' THEN 1 ELSE 0 END) AS tweets_with_mention,\n",
    "  SUM(CASE WHEN text NOT LIKE '%@%' THEN 1 ELSE 0 END) AS tweets_without_mention\n",
    "FROM bronze_temp;\n"
   ]
  },
  {
   "cell_type": "code",
   "execution_count": 0,
   "metadata": {
    "application/vnd.databricks.v1+cell": {
     "cellMetadata": {
      "byteLimit": 2048000,
      "implicitDf": true,
      "rowLimit": 10000
     },
     "inputWidgets": {},
     "nuid": "870450de-debe-4011-9875-e23a579fb186",
     "showTitle": false,
     "title": ""
    }
   },
   "outputs": [
    {
     "output_type": "display_data",
     "data": {
      "text/plain": [
       "Databricks visualization. Run in Databricks to view."
      ]
     },
     "metadata": {
      "application/vnd.databricks.v1.subcommand+json": {
       "baseErrorDetails": null,
       "bindings": {},
       "collapsed": false,
       "command": "# Databricks no-op command",
       "commandTitle": "Visualization 1",
       "commandType": "auto",
       "commandVersion": 0,
       "commentThread": [],
       "commentsVisible": false,
       "contentSha256Hex": null,
       "customPlotOptions": {
        "redashChart": [
         {
          "key": "type",
          "value": "CHART"
         },
         {
          "key": "options",
          "value": {
           "alignYAxesAtZero": true,
           "coefficient": 1,
           "columnConfigurationMap": {
            "x": {
             "column": "user",
             "id": "column_6d4617df5"
            },
            "y": [
             {
              "column": "total_tweets",
              "id": "column_6d4617df6",
              "transform": "SUM"
             }
            ]
           },
           "dateTimeFormat": "DD/MM/YYYY HH:mm",
           "direction": {
            "type": "counterclockwise"
           },
           "error_y": {
            "type": "data",
            "visible": true
           },
           "globalSeriesType": "column",
           "isAggregationOn": true,
           "legend": {
            "traceorder": "normal"
           },
           "missingValuesAsZero": true,
           "numberFormat": "0,0.[00000]",
           "percentFormat": "0[.]00%",
           "reverseX": false,
           "series": {
            "error_y": {
             "type": "data",
             "visible": true
            },
            "percentValues": false,
            "stacking": null
           },
           "seriesOptions": {
            "column_6d4617df6": {
             "name": "total_tweets",
             "yAxis": 0
            }
           },
           "showDataLabels": false,
           "sizemode": "diameter",
           "sortX": false,
           "sortY": true,
           "swappedAxes": false,
           "textFormat": "",
           "useAggregationsUi": true,
           "valuesOptions": {},
           "version": 2,
           "xAxis": {
            "labels": {
             "enabled": true
            },
            "type": "-"
           },
           "yAxis": [
            {
             "type": "-"
            },
            {
             "opposite": true,
             "type": "-"
            }
           ]
          }
         }
        ]
       },
       "datasetPreviewNameToCmdIdMap": {},
       "diffDeletes": [],
       "diffInserts": [],
       "displayType": "redashChart",
       "error": null,
       "errorDetails": null,
       "errorSummary": null,
       "errorTraceType": null,
       "finishTime": 0,
       "globalVars": {},
       "guid": "",
       "height": "auto",
       "hideCommandCode": false,
       "hideCommandResult": false,
       "iPythonMetadata": null,
       "inputWidgets": {},
       "isLockedInExamMode": false,
       "latestUser": "a user",
       "latestUserId": null,
       "listResultMetadata": null,
       "metadata": {
        "byteLimit": 2048000,
        "rowLimit": 10000
       },
       "nuid": "5b50f57c-cc12-4ef2-981b-c844d2b5b5ee",
       "origId": 0,
       "parentHierarchy": [],
       "pivotAggregation": null,
       "pivotColumns": null,
       "position": 12.9375,
       "resultDbfsErrorMessage": null,
       "resultDbfsStatus": "INLINED_IN_TREE",
       "results": null,
       "showCommandTitle": false,
       "startTime": 0,
       "state": "input",
       "streamStates": {},
       "subcommandOptions": {
        "queryPlan": {
         "groups": [
          {
           "column": "user",
           "type": "column"
          }
         ],
         "selects": [
          {
           "column": "user",
           "type": "column"
          },
          {
           "alias": "column_6d4617df6",
           "args": [
            {
             "column": "total_tweets",
             "type": "column"
            }
           ],
           "function": "SUM",
           "type": "function"
          }
         ]
        }
       },
       "submitTime": 0,
       "subtype": "tableResultSubCmd.visualization",
       "tableResultIndex": 0,
       "useConsistentColors": false,
       "version": "CommandV1",
       "width": "auto",
       "workflows": null,
       "xColumns": null,
       "yColumns": null
      }
     },
     "output_type": "display_data"
    }
   ],
   "source": [
    "%sql\n",
    "SELECT user, COUNT(*) as total_tweets\n",
    "FROM bronze_temp\n",
    "GROUP BY user\n",
    "ORDER BY total_tweets DESC\n",
    "LIMIT 20"
   ]
  },
  {
   "cell_type": "markdown",
   "metadata": {
    "application/vnd.databricks.v1+cell": {
     "cellMetadata": {
      "byteLimit": 2048000,
      "rowLimit": 10000
     },
     "inputWidgets": {},
     "nuid": "38c290b9-a42a-4551-857b-3f461b8a1be6",
     "showTitle": false,
     "title": ""
    }
   },
   "source": [
    "## 5.0 Transform the Bronze Data to Silver Data using a stream\n",
    "- setup a read stream on your bronze delta table\n",
    "- setup a write stream to append to the silver delta table\n",
    "- Use the defined SILVER_CHECKPOINT and SILVER_DELTA paths in the includes\n",
    "- name your bronze to silver stream as silver_stream\n",
    "- transform the bronze data to the silver data using the data definition at the top of the notebook"
   ]
  },
  {
   "cell_type": "code",
   "execution_count": 0,
   "metadata": {
    "application/vnd.databricks.v1+cell": {
     "cellMetadata": {
      "byteLimit": 2048000,
      "rowLimit": 10000
     },
     "inputWidgets": {},
     "nuid": "65b029cb-ba45-4625-a9c1-d0d410a4962b",
     "showTitle": false,
     "title": ""
    }
   },
   "outputs": [],
   "source": [
    "# ENTER YOUR CODE HERE\n",
    "# Read stream from the Bronze Delta table\n",
    "bronze_df_stream = (\n",
    "    spark.readStream\n",
    "    .format(\"delta\")\n",
    "    .load(BRONZE_DELTA)\n",
    ")\n",
    "\n",
    "print(\"Read stream from Bronze Delta table setup.\")"
   ]
  },
  {
   "cell_type": "code",
   "execution_count": 0,
   "metadata": {
    "application/vnd.databricks.v1+cell": {
     "cellMetadata": {
      "byteLimit": 2048000,
      "rowLimit": 10000
     },
     "inputWidgets": {},
     "nuid": "60b3f71c-9213-45ff-ba9f-c0c0e6a22431",
     "showTitle": false,
     "title": ""
    }
   },
   "outputs": [],
   "source": [
    "display(bronze_df_stream)"
   ]
  },
  {
   "cell_type": "code",
   "execution_count": 0,
   "metadata": {
    "application/vnd.databricks.v1+cell": {
     "cellMetadata": {
      "byteLimit": 2048000,
      "rowLimit": 10000
     },
     "inputWidgets": {},
     "nuid": "ce288548-84b0-436c-937a-6234fa745240",
     "showTitle": false,
     "title": ""
    }
   },
   "outputs": [],
   "source": [
    "# UDF to extract mentions starting with '@' from text\n",
    "extract_mentions = udf(lambda text: [word[1:] for word in text.split() if word.startswith('@') and len(word) > 1], ArrayType(StringType()))\n"
   ]
  },
  {
   "cell_type": "code",
   "execution_count": 0,
   "metadata": {
    "application/vnd.databricks.v1+cell": {
     "cellMetadata": {
      "byteLimit": 2048000,
      "rowLimit": 10000
     },
     "inputWidgets": {},
     "nuid": "7760a518-223c-4c25-9c0d-69b4465ad410",
     "showTitle": false,
     "title": ""
    }
   },
   "outputs": [],
   "source": [
    "# UDF to extract cleaned text\n",
    "extract_cleaned_text = udf(lambda text: ' '.join([word for word in text.split() if not word.startswith('@')]))\n"
   ]
  },
  {
   "cell_type": "code",
   "execution_count": 0,
   "metadata": {
    "application/vnd.databricks.v1+cell": {
     "cellMetadata": {
      "byteLimit": 2048000,
      "rowLimit": 10000
     },
     "inputWidgets": {},
     "nuid": "05030a7c-eb5d-4416-a1ee-b260ad7915a3",
     "showTitle": false,
     "title": ""
    }
   },
   "outputs": [],
   "source": [
    "# Filtering rows with having atleast one mentions\n",
    "# Adding 'mention' and 'cleaned_text' columns using udf\n",
    "bronze_to_silver = (bronze_df_stream\n",
    "    .select(\"date\", \"text\", \"sentiment\")\n",
    "    .filter(col(\"text\").like(\"%@%\"))\n",
    "    .withColumn(\"mention_array\", extract_mentions(col(\"text\")))\n",
    "    .withColumn(\"cleaned_text\", extract_cleaned_text(col(\"text\")))\n",
    ")\n"
   ]
  },
  {
   "cell_type": "code",
   "execution_count": 0,
   "metadata": {
    "application/vnd.databricks.v1+cell": {
     "cellMetadata": {
      "byteLimit": 2048000,
      "rowLimit": 10000
     },
     "inputWidgets": {},
     "nuid": "8391ef99-2365-44db-ba13-7f0dcbc013de",
     "showTitle": false,
     "title": ""
    }
   },
   "outputs": [],
   "source": [
    "# Explode the mention array column to get the row for each mention\n",
    "bronze_to_silver = (bronze_to_silver\n",
    "    .select(\"*\", explode(\"mention_array\").alias(\"mention\"))\n",
    ")\n",
    "\n"
   ]
  },
  {
   "cell_type": "code",
   "execution_count": 0,
   "metadata": {
    "application/vnd.databricks.v1+cell": {
     "cellMetadata": {
      "byteLimit": 2048000,
      "rowLimit": 10000
     },
     "inputWidgets": {},
     "nuid": "06365280-380c-42b7-afbc-772bcbe1dd4b",
     "showTitle": false,
     "title": ""
    }
   },
   "outputs": [],
   "source": [
    "# Adding timestamp column using date column\n",
    "spark.conf.set(\"spark.sql.legacy.timeParserPolicy\", \"LEGACY\")\n",
    "bronze_to_silver = bronze_to_silver.withColumn(\"timestamp\", to_timestamp(col(\"date\"), \"EEE MMM dd HH:mm:ss z yyyy\"))\n"
   ]
  },
  {
   "cell_type": "code",
   "execution_count": 0,
   "metadata": {
    "application/vnd.databricks.v1+cell": {
     "cellMetadata": {
      "byteLimit": 2048000,
      "rowLimit": 10000
     },
     "inputWidgets": {},
     "nuid": "2a34c333-072a-440e-b5aa-8bd02227df47",
     "showTitle": false,
     "title": ""
    }
   },
   "outputs": [],
   "source": [
    "# Dropping the redundant columns\n",
    "bronze_to_silver = bronze_to_silver.drop(\"date\", \"text\", \"mention_array\")"
   ]
  },
  {
   "cell_type": "code",
   "execution_count": 0,
   "metadata": {
    "application/vnd.databricks.v1+cell": {
     "cellMetadata": {
      "byteLimit": 2048000,
      "rowLimit": 10000
     },
     "inputWidgets": {},
     "nuid": "5df93509-5a14-490d-b933-d2cd24f61340",
     "showTitle": false,
     "title": ""
    }
   },
   "outputs": [],
   "source": [
    "# Write the transformed data to the Silver Delta table\n",
    "silver_stream = (\n",
    "    bronze_to_silver\n",
    "    .writeStream\n",
    "    .format(\"delta\")\n",
    "    .outputMode(\"append\")\n",
    "    .option(\"mergeSchema\", \"true\")  # Allow new schema to be merged\n",
    "    .option(\"checkpointLocation\", SILVER_CHECKPOINT)\n",
    "    .trigger(availableNow = True)\n",
    "    .start(SILVER_DELTA)\n",
    ")\n",
    "\n",
    "print(\"Write stream to Silver Delta table started as silver_stream.\")"
   ]
  },
  {
   "cell_type": "code",
   "execution_count": 0,
   "metadata": {
    "application/vnd.databricks.v1+cell": {
     "cellMetadata": {
      "byteLimit": 2048000,
      "rowLimit": 10000
     },
     "inputWidgets": {},
     "nuid": "ab4cbe7f-6751-44ad-bb79-d7d90801da1a",
     "showTitle": false,
     "title": ""
    }
   },
   "outputs": [],
   "source": [
    "silver_stream.awaitTermination()"
   ]
  },
  {
   "cell_type": "code",
   "execution_count": 0,
   "metadata": {
    "application/vnd.databricks.v1+cell": {
     "cellMetadata": {
      "byteLimit": 2048000,
      "rowLimit": 10000
     },
     "inputWidgets": {},
     "nuid": "73e5c32b-a989-4cbd-ac3c-32aafc654829",
     "showTitle": false,
     "title": ""
    }
   },
   "outputs": [],
   "source": [
    "silver_stream.status"
   ]
  },
  {
   "cell_type": "code",
   "execution_count": 0,
   "metadata": {
    "application/vnd.databricks.v1+cell": {
     "cellMetadata": {
      "byteLimit": 2048000,
      "rowLimit": 10000
     },
     "inputWidgets": {},
     "nuid": "3664bb40-58ee-43e8-866e-63fdd89bfcf9",
     "showTitle": false,
     "title": ""
    }
   },
   "outputs": [],
   "source": [
    "spark.readStream.load(SILVER_DELTA).createOrReplaceTempView('silver_temp')"
   ]
  },
  {
   "cell_type": "code",
   "execution_count": 0,
   "metadata": {
    "application/vnd.databricks.v1+cell": {
     "cellMetadata": {
      "byteLimit": 2048000,
      "implicitDf": true,
      "rowLimit": 10000
     },
     "inputWidgets": {},
     "nuid": "a91f68bc-c385-44f3-ad52-abaebbb43b93",
     "showTitle": false,
     "title": ""
    }
   },
   "outputs": [],
   "source": [
    "%sql\n",
    "SELECT COUNT(*) FROM silver_temp"
   ]
  },
  {
   "cell_type": "markdown",
   "metadata": {
    "application/vnd.databricks.v1+cell": {
     "cellMetadata": {
      "byteLimit": 2048000,
      "rowLimit": 10000
     },
     "inputWidgets": {},
     "nuid": "9ee38aba-e340-4766-8339-71ef2ecfde3a",
     "showTitle": false,
     "title": ""
    }
   },
   "source": [
    "## 6.0 Transform the Silver Data to Gold Data using a stream\n",
    "- setup a read stream on your silver delta table\n",
    "- setup a write stream to append to the gold delta table\n",
    "- Use the defined GOLD_CHECKPOINT and GOLD_DELTA paths defines in the includes\n",
    "- name your silver to gold stream as gold_stream\n",
    "- transform the silver data to the gold data using the data definition at the top of the notebook\n",
    "- Load the pretrained transformer sentiment classifier from the MODEL_NAME at the production level from the MLflow registry\n",
    "- Use a spark UDF to parallelize the inference across your silver data"
   ]
  },
  {
   "cell_type": "code",
   "execution_count": 0,
   "metadata": {
    "application/vnd.databricks.v1+cell": {
     "cellMetadata": {
      "byteLimit": 2048000,
      "rowLimit": 10000
     },
     "inputWidgets": {},
     "nuid": "3ff55f1c-df66-424f-8aab-dd3173344873",
     "showTitle": false,
     "title": ""
    }
   },
   "outputs": [],
   "source": [
    "# Load the UDF from MLflow\n",
    "sentiment_analysis_udf = mlflow.pyfunc.spark_udf(spark, \"models:/HF_TWEET_SENTIMENT/Production\")\n"
   ]
  },
  {
   "cell_type": "code",
   "execution_count": 0,
   "metadata": {
    "application/vnd.databricks.v1+cell": {
     "cellMetadata": {
      "byteLimit": 2048000,
      "rowLimit": 10000
     },
     "inputWidgets": {},
     "nuid": "ed181d10-774d-491c-8647-8e7efdc089c5",
     "showTitle": false,
     "title": ""
    }
   },
   "outputs": [],
   "source": [
    "# Create a streaming DataFrame from the Silver Delta table\n",
    "raw_silver_stream = spark.readStream.format(\"delta\").load(SILVER_DELTA)"
   ]
  },
  {
   "cell_type": "code",
   "execution_count": 0,
   "metadata": {
    "application/vnd.databricks.v1+cell": {
     "cellMetadata": {
      "byteLimit": 2048000,
      "rowLimit": 10000
     },
     "inputWidgets": {},
     "nuid": "b8a5c2a5-410a-49b2-b6b4-53a18c077091",
     "showTitle": false,
     "title": ""
    }
   },
   "outputs": [],
   "source": [
    "display(raw_silver_stream)"
   ]
  },
  {
   "cell_type": "code",
   "execution_count": 0,
   "metadata": {
    "application/vnd.databricks.v1+cell": {
     "cellMetadata": {
      "byteLimit": 2048000,
      "rowLimit": 10000
     },
     "inputWidgets": {},
     "nuid": "ff102a66-bff5-4a00-881a-8050f696def4",
     "showTitle": false,
     "title": ""
    }
   },
   "outputs": [],
   "source": [
    "raw_gold_stream = (raw_silver_stream\n",
    "    .withColumn(\"model_output\", sentiment_analysis_udf(col(\"cleaned_text\")))\n",
    "    .select(\n",
    "        col(\"timestamp\"),\n",
    "        col(\"mention\"),\n",
    "        col(\"cleaned_text\"),\n",
    "        col(\"sentiment\"),\n",
    "        col(\"model_output.label\").alias(\"predicted_sentiment\"),\n",
    "        col(\"model_output.score\").alias(\"predicted_score\"),\n",
    "        when(col(\"sentiment\") == \"negative\", -1).\n",
    "        when(col(\"sentiment\") == \"positive\", 1).otherwise(0).alias(\"sentiment_id\"),\n",
    "        when(col(\"model_output.label\") == \"NEG\", 0)\n",
    "        .when(col(\"model_output.label\") == \"POS\", 1).otherwise(-1)\n",
    "        .alias(\"predicted_sentiment_id\")\n",
    "    )\n",
    "    .withColumn(\"predicted_score\", col(\"predicted_score\")*100)\n",
    ")"
   ]
  },
  {
   "cell_type": "code",
   "execution_count": 0,
   "metadata": {
    "application/vnd.databricks.v1+cell": {
     "cellMetadata": {
      "byteLimit": 2048000,
      "rowLimit": 10000
     },
     "inputWidgets": {},
     "nuid": "a086f552-528a-4168-891d-091760cae92d",
     "showTitle": false,
     "title": ""
    }
   },
   "outputs": [],
   "source": [
    "# Start the streaming write to the Gold Delta table\n",
    "gold_stream = (\n",
    "    raw_gold_stream.writeStream\n",
    "    .format(\"delta\")\n",
    "    .outputMode(\"append\")\n",
    "    .option(\"checkpointLocation\", GOLD_CHECKPOINT)\n",
    "    .trigger(availableNow = True)\n",
    "    .start(GOLD_DELTA)\n",
    ")\n"
   ]
  },
  {
   "cell_type": "code",
   "execution_count": 0,
   "metadata": {
    "application/vnd.databricks.v1+cell": {
     "cellMetadata": {
      "byteLimit": 2048000,
      "rowLimit": 10000
     },
     "inputWidgets": {},
     "nuid": "85216c9d-14dc-4696-a29e-dd639246e885",
     "showTitle": false,
     "title": ""
    }
   },
   "outputs": [],
   "source": [
    "gold_stream.awaitTermination()"
   ]
  },
  {
   "cell_type": "markdown",
   "metadata": {
    "application/vnd.databricks.v1+cell": {
     "cellMetadata": {
      "byteLimit": 2048000,
      "rowLimit": 10000
     },
     "inputWidgets": {},
     "nuid": "0494d8b4-5a55-47fc-af12-47325f34a303",
     "showTitle": false,
     "title": ""
    }
   },
   "source": [
    "## 7.0 Capture the accuracy metrics from the gold table in MLflow\n",
    "Store the following in an MLflow experiment run:\n",
    "- Store the precision, recall, and F1-score as MLflow metrics\n",
    "- Store an image of the confusion matrix as an MLflow artifact\n",
    "- Store the mdoel name and the MLflow version that was used as an MLflow parameters\n",
    "- Store the version of the Delta Table (input-silver) as an MLflow parameter"
   ]
  },
  {
   "cell_type": "code",
   "execution_count": 0,
   "metadata": {
    "application/vnd.databricks.v1+cell": {
     "cellMetadata": {
      "byteLimit": 2048000,
      "rowLimit": 10000
     },
     "inputWidgets": {},
     "nuid": "335fbe6c-91b0-4d8d-a271-80b6b412c1fb",
     "showTitle": false,
     "title": ""
    }
   },
   "outputs": [],
   "source": [
    "gold_stream.awaitTermination()\n"
   ]
  },
  {
   "cell_type": "code",
   "execution_count": 0,
   "metadata": {
    "application/vnd.databricks.v1+cell": {
     "cellMetadata": {
      "byteLimit": 2048000,
      "rowLimit": 10000
     },
     "inputWidgets": {},
     "nuid": "3bb174ad-67e4-4b0a-be36-ff20a760ee8b",
     "showTitle": false,
     "title": ""
    }
   },
   "outputs": [],
   "source": [
    "# ENTER YOUR CODE HERE\n",
    "gold_df = spark.read.format(\"delta\").load(GOLD_DELTA)\n"
   ]
  },
  {
   "cell_type": "code",
   "execution_count": 0,
   "metadata": {
    "application/vnd.databricks.v1+cell": {
     "cellMetadata": {
      "byteLimit": 2048000,
      "rowLimit": 10000
     },
     "inputWidgets": {},
     "nuid": "b7922306-f5db-4926-844c-c257af9b5135",
     "showTitle": false,
     "title": ""
    }
   },
   "outputs": [],
   "source": [
    "\n",
    "with mlflow.start_run(run_name = \"Twitter_Sentiment_Analysis\") as run:\n",
    "    class_labels = [\"neutral\", \"negative\", \"positive\"]\n",
    "\n",
    "    actual_sentiments = gold_df.select(\"sentiment_id\").toPandas()[\"sentiment_id\"]\n",
    "    predicted_sentiments = gold_df.select(\"predicted_sentiment_id\").toPandas()[\"predicted_sentiment_id\"]\n",
    "\n",
    "    # Calculate precision, recall, and F1-score\n",
    "    precisions = precision_score(actual_sentiments, predicted_sentiments, average=None)\n",
    "    recalls = recall_score(actual_sentiments, predicted_sentiments, average=None)\n",
    "    f1_scores = f1_score(actual_sentiments, predicted_sentiments, average=None)\n",
    "\n",
    "    # Log precision, recall, and F1-score as MLflow metrics\n",
    "    for sentiment, precision, recall, f1_score_value in zip(class_labels, precisions, recalls, f1_scores):\n",
    "        mlflow.log_metric(f\"precision_{sentiment}\", precision)\n",
    "        mlflow.log_metric(f\"recall_{sentiment}\", recall)\n",
    "        mlflow.log_metric(f\"f1_score_{sentiment}\", f1_score_value)\n",
    "\n",
    "    # Create the confusion matrix\n",
    "    confusion_matrix = pd.crosstab(actual_sentiments, predicted_sentiments, dropna = True)\n",
    "\n",
    "    # Plot and save the confusion matrix as an image\n",
    "    plt.figure(figsize=(6, 4))\n",
    "    sns.heatmap(confusion_matrix, annot=True, cmap=\"Reds\", fmt=\"d\")\n",
    "    plt.xlabel(\"Predicted Sentiment\")\n",
    "    plt.ylabel(\"Actual Sentiment\")\n",
    "    plt.savefig(\"confusion_matrix.png\")\n",
    "\n",
    "    # Log the confusion matrix image as an MLflow artifact\n",
    "    mlflow.log_artifact(\"confusion_matrix.png\")\n",
    "\n",
    "    mlflow.log_param(\"Model Name\", MODEL_NAME)\n",
    "    mlflow.log_param(\"Model Version\", \"1\")\n",
    "    \n",
    "    \n",
    "    delta_table = DeltaTable.forPath(spark, SILVER_DELTA)\n",
    "    table_version = delta_table.history().select(\"version\").limit(1).collect()[0][0]\n",
    "\n",
    "    mlflow.log_param(\"Silver Table Version\", str(table_version))"
   ]
  },
  {
   "cell_type": "markdown",
   "metadata": {
    "application/vnd.databricks.v1+cell": {
     "cellMetadata": {
      "byteLimit": 2048000,
      "rowLimit": 10000
     },
     "inputWidgets": {},
     "nuid": "81e0e2de-b872-4698-81cc-1669646c2183",
     "showTitle": false,
     "title": ""
    }
   },
   "source": [
    "## 8.0 Application Data Processing and Visualization\n",
    "- How many mentions are there in the gold data total?\n",
    "  \n",
    "  Solution: 97455 \n",
    "- Count the number of neutral, positive and negative tweets for each mention in new columns\n",
    "- Capture the total for each mention in a new column\n",
    "- Sort the mention count totals in descending order\n",
    "- Plot a bar chart of the top 20 mentions with positive sentiment (the people who are in favor)\n",
    "- Plot a bar chart of the top 20 mentions with negative sentiment (the people who are the vilians)\n",
    "\n",
    "You may want to use the \"Loop Application\" widget to control whether you repeateded display the latest plots while the data comes in from your streams before moving on to the next section and cleaning up your run.\n",
    "\n",
    "*note: A mention is a specific twitter user that has been \"mentioned\" in a tweet with an @user reference."
   ]
  },
  {
   "cell_type": "code",
   "execution_count": 0,
   "metadata": {
    "application/vnd.databricks.v1+cell": {
     "cellMetadata": {
      "byteLimit": 2048000,
      "rowLimit": 10000
     },
     "inputWidgets": {},
     "nuid": "20bb9065-94b7-428f-b317-af04c6e93d3f",
     "showTitle": false,
     "title": ""
    }
   },
   "outputs": [],
   "source": [
    "spark.readStream.load(GOLD_DELTA).createOrReplaceTempView('gold_temp')"
   ]
  },
  {
   "cell_type": "code",
   "execution_count": 0,
   "metadata": {
    "application/vnd.databricks.v1+cell": {
     "cellMetadata": {
      "byteLimit": 2048000,
      "implicitDf": true,
      "rowLimit": 10000
     },
     "inputWidgets": {},
     "nuid": "66eaa033-28d7-4ad1-9155-6d0209bbb486",
     "showTitle": false,
     "title": ""
    }
   },
   "outputs": [],
   "source": [
    "%sql\n",
    "SELECT COUNT(*) FROM gold_temp"
   ]
  },
  {
   "cell_type": "code",
   "execution_count": 0,
   "metadata": {
    "application/vnd.databricks.v1+cell": {
     "cellMetadata": {
      "byteLimit": 2048000,
      "implicitDf": true,
      "rowLimit": 10000
     },
     "inputWidgets": {},
     "nuid": "8250667b-eaa5-48a1-90c7-bfe11e666e32",
     "showTitle": false,
     "title": ""
    }
   },
   "outputs": [],
   "source": [
    "%sql\n",
    "SELECT mention,\n",
    "    COUNT(*) AS total_mentions,\n",
    "    SUM(CASE WHEN predicted_sentiment_id = '1' THEN 1 ELSE 0 END) AS positive_mentions,\n",
    "    SUM(CASE WHEN predicted_sentiment_id = '-1' THEN 1 ELSE 0 END) AS negative_mentions,\n",
    "    SUM(CASE WHEN predicted_sentiment_id = '0' THEN 1 ELSE 0 END) AS neutral_mentions,\n",
    "    (SUM(CASE WHEN predicted_sentiment_id = '1' THEN 1 ELSE 0 END) + \n",
    "     SUM(CASE WHEN predicted_sentiment_id = '-1' THEN 1 ELSE 0 END) + \n",
    "     SUM(CASE WHEN predicted_sentiment_id = '0' THEN 1 ELSE 0 END)) AS total_count\n",
    "FROM gold_temp\n",
    "GROUP BY mention\n",
    "ORDER BY total_mentions DESC"
   ]
  },
  {
   "cell_type": "code",
   "execution_count": 0,
   "metadata": {
    "application/vnd.databricks.v1+cell": {
     "cellMetadata": {
      "byteLimit": 2048000,
      "implicitDf": true,
      "rowLimit": 10000
     },
     "inputWidgets": {},
     "nuid": "b418d142-e514-4ae1-92d1-d056cc9bc5b4",
     "showTitle": false,
     "title": ""
    }
   },
   "outputs": [
    {
     "output_type": "display_data",
     "data": {
      "text/plain": [
       "Databricks visualization. Run in Databricks to view."
      ]
     },
     "metadata": {
      "application/vnd.databricks.v1.subcommand+json": {
       "baseErrorDetails": null,
       "bindings": {},
       "collapsed": false,
       "command": "# Databricks no-op command",
       "commandTitle": "Visualization 1",
       "commandType": "auto",
       "commandVersion": 0,
       "commentThread": [],
       "commentsVisible": false,
       "contentSha256Hex": null,
       "customPlotOptions": {
        "redashChart": [
         {
          "key": "type",
          "value": "CHART"
         },
         {
          "key": "options",
          "value": {
           "alignYAxesAtZero": true,
           "coefficient": 1,
           "columnConfigurationMap": {
            "x": {
             "column": "mention",
             "id": "column_12fdfe2e1"
            },
            "y": [
             {
              "column": "positive_mentions",
              "id": "column_12fdfe2e2",
              "transform": "SUM"
             }
            ]
           },
           "dateTimeFormat": "DD/MM/YYYY HH:mm",
           "direction": {
            "type": "counterclockwise"
           },
           "error_y": {
            "type": "data",
            "visible": true
           },
           "globalSeriesType": "column",
           "isAggregationOn": true,
           "legend": {
            "traceorder": "normal"
           },
           "missingValuesAsZero": true,
           "numberFormat": "0,0.[00000]",
           "percentFormat": "0[.]00%",
           "series": {
            "error_y": {
             "type": "data",
             "visible": true
            },
            "stacking": null
           },
           "seriesOptions": {
            "column_12fdfe2e2": {
             "name": "positive_mentions",
             "yAxis": 0
            }
           },
           "showDataLabels": false,
           "sizemode": "diameter",
           "sortX": false,
           "sortY": true,
           "swappedAxes": false,
           "textFormat": "",
           "useAggregationsUi": true,
           "valuesOptions": {},
           "version": 2,
           "xAxis": {
            "labels": {
             "enabled": true
            },
            "type": "-"
           },
           "yAxis": [
            {
             "type": "-"
            },
            {
             "opposite": true,
             "type": "-"
            }
           ]
          }
         }
        ]
       },
       "datasetPreviewNameToCmdIdMap": {},
       "diffDeletes": [],
       "diffInserts": [],
       "displayType": "redashChart",
       "error": null,
       "errorDetails": null,
       "errorSummary": null,
       "errorTraceType": null,
       "finishTime": 0,
       "globalVars": {},
       "guid": "",
       "height": "auto",
       "hideCommandCode": false,
       "hideCommandResult": false,
       "iPythonMetadata": null,
       "inputWidgets": {},
       "isLockedInExamMode": false,
       "latestUser": "a user",
       "latestUserId": null,
       "listResultMetadata": null,
       "metadata": {
        "byteLimit": 2048000,
        "rowLimit": 10000
       },
       "nuid": "96a6a4a0-da6d-46c6-9b48-3951160dc724",
       "origId": 0,
       "parentHierarchy": [],
       "pivotAggregation": null,
       "pivotColumns": null,
       "position": 20.5,
       "resultDbfsErrorMessage": null,
       "resultDbfsStatus": "INLINED_IN_TREE",
       "results": null,
       "showCommandTitle": false,
       "startTime": 0,
       "state": "input",
       "streamStates": {},
       "subcommandOptions": {
        "queryPlan": {
         "groups": [
          {
           "column": "mention",
           "type": "column"
          }
         ],
         "selects": [
          {
           "column": "mention",
           "type": "column"
          },
          {
           "alias": "column_12fdfe2e2",
           "args": [
            {
             "column": "positive_mentions",
             "type": "column"
            }
           ],
           "function": "SUM",
           "type": "function"
          }
         ]
        }
       },
       "submitTime": 0,
       "subtype": "tableResultSubCmd.visualization",
       "tableResultIndex": 0,
       "useConsistentColors": false,
       "version": "CommandV1",
       "width": "auto",
       "workflows": null,
       "xColumns": null,
       "yColumns": null
      }
     },
     "output_type": "display_data"
    }
   ],
   "source": [
    "%sql\n",
    "SELECT\n",
    "    mention,\n",
    "    SUM(CASE WHEN predicted_sentiment_id = '1' THEN 1 ELSE 0 END) AS positive_mentions\n",
    "FROM gold_temp\n",
    "GROUP BY mention\n",
    "ORDER BY positive_mentions DESC\n",
    "LIMIT 20"
   ]
  },
  {
   "cell_type": "code",
   "execution_count": 0,
   "metadata": {
    "application/vnd.databricks.v1+cell": {
     "cellMetadata": {
      "byteLimit": 2048000,
      "implicitDf": true,
      "rowLimit": 10000
     },
     "inputWidgets": {},
     "nuid": "83b58d78-8123-4bb4-a04c-91bbd1acbf1f",
     "showTitle": false,
     "title": ""
    }
   },
   "outputs": [
    {
     "output_type": "display_data",
     "data": {
      "text/plain": [
       "Databricks visualization. Run in Databricks to view."
      ]
     },
     "metadata": {
      "application/vnd.databricks.v1.subcommand+json": {
       "baseErrorDetails": null,
       "bindings": {},
       "collapsed": false,
       "command": "# Databricks no-op command",
       "commandTitle": "Visualization 1",
       "commandType": "auto",
       "commandVersion": 0,
       "commentThread": [],
       "commentsVisible": false,
       "contentSha256Hex": null,
       "customPlotOptions": {
        "redashChart": [
         {
          "key": "type",
          "value": "CHART"
         },
         {
          "key": "options",
          "value": {
           "alignYAxesAtZero": true,
           "coefficient": 1,
           "columnConfigurationMap": {
            "x": {
             "column": "mention",
             "id": "column_12fdfe2e4"
            },
            "y": [
             {
              "column": "negative_mentions",
              "id": "column_12fdfe2e5",
              "transform": "SUM"
             }
            ]
           },
           "dateTimeFormat": "DD/MM/YYYY HH:mm",
           "direction": {
            "type": "counterclockwise"
           },
           "error_y": {
            "type": "data",
            "visible": true
           },
           "globalSeriesType": "column",
           "isAggregationOn": true,
           "legend": {
            "traceorder": "normal"
           },
           "missingValuesAsZero": true,
           "numberFormat": "0,0.[00000]",
           "percentFormat": "0[.]00%",
           "series": {
            "error_y": {
             "type": "data",
             "visible": true
            },
            "stacking": null
           },
           "seriesOptions": {
            "column_12fdfe2e5": {
             "name": "negative_mentions",
             "yAxis": 0
            }
           },
           "showDataLabels": false,
           "sizemode": "diameter",
           "sortX": false,
           "sortY": true,
           "swappedAxes": false,
           "textFormat": "",
           "useAggregationsUi": true,
           "valuesOptions": {},
           "version": 2,
           "xAxis": {
            "labels": {
             "enabled": true
            },
            "type": "-"
           },
           "yAxis": [
            {
             "type": "-"
            },
            {
             "opposite": true,
             "type": "-"
            }
           ]
          }
         }
        ]
       },
       "datasetPreviewNameToCmdIdMap": {},
       "diffDeletes": [],
       "diffInserts": [],
       "displayType": "redashChart",
       "error": null,
       "errorDetails": null,
       "errorSummary": null,
       "errorTraceType": null,
       "finishTime": 0,
       "globalVars": {},
       "guid": "",
       "height": "auto",
       "hideCommandCode": false,
       "hideCommandResult": false,
       "iPythonMetadata": null,
       "inputWidgets": {},
       "isLockedInExamMode": false,
       "latestUser": "a user",
       "latestUserId": null,
       "listResultMetadata": null,
       "metadata": {
        "byteLimit": 2048000,
        "rowLimit": 10000
       },
       "nuid": "ed680948-9375-4cc7-a41e-20ed39c83d24",
       "origId": 0,
       "parentHierarchy": [],
       "pivotAggregation": null,
       "pivotColumns": null,
       "position": 20.75,
       "resultDbfsErrorMessage": null,
       "resultDbfsStatus": "INLINED_IN_TREE",
       "results": null,
       "showCommandTitle": false,
       "startTime": 0,
       "state": "input",
       "streamStates": {},
       "subcommandOptions": {
        "queryPlan": {
         "groups": [
          {
           "column": "mention",
           "type": "column"
          }
         ],
         "selects": [
          {
           "column": "mention",
           "type": "column"
          },
          {
           "alias": "column_12fdfe2e5",
           "args": [
            {
             "column": "negative_mentions",
             "type": "column"
            }
           ],
           "function": "SUM",
           "type": "function"
          }
         ]
        }
       },
       "submitTime": 0,
       "subtype": "tableResultSubCmd.visualization",
       "tableResultIndex": 0,
       "useConsistentColors": false,
       "version": "CommandV1",
       "width": "auto",
       "workflows": null,
       "xColumns": null,
       "yColumns": null
      }
     },
     "output_type": "display_data"
    }
   ],
   "source": [
    "%sql\n",
    "SELECT\n",
    "    mention,\n",
    "    SUM(CASE WHEN predicted_sentiment_id = '-1' THEN 1 ELSE 0 END) AS negative_mentions\n",
    "FROM gold_temp\n",
    "GROUP BY mention\n",
    "ORDER BY negative_mentions DESC\n",
    "LIMIT 20"
   ]
  },
  {
   "cell_type": "markdown",
   "metadata": {
    "application/vnd.databricks.v1+cell": {
     "cellMetadata": {
      "byteLimit": 2048000,
      "rowLimit": 10000
     },
     "inputWidgets": {},
     "nuid": "5d5add3f-0c13-4d81-86d8-12cf3cfdd2c8",
     "showTitle": false,
     "title": ""
    }
   },
   "source": [
    "## 9.0 Clean up and completion of your pipeline\n",
    "- using the utilities what streams are running? If any.\n",
    "- Stop all active streams\n",
    "- print out the elapsed time of your notebook."
   ]
  },
  {
   "cell_type": "code",
   "execution_count": 0,
   "metadata": {
    "application/vnd.databricks.v1+cell": {
     "cellMetadata": {
      "byteLimit": 2048000,
      "rowLimit": 10000
     },
     "inputWidgets": {},
     "nuid": "0304e685-c26e-447d-b230-c37266f30003",
     "showTitle": false,
     "title": ""
    }
   },
   "outputs": [],
   "source": [
    "for stream in spark.streams.active:\n",
    "    print(stream.name, \" is stopped.\")\n",
    "stop_all_streams()"
   ]
  },
  {
   "cell_type": "code",
   "execution_count": 0,
   "metadata": {
    "application/vnd.databricks.v1+cell": {
     "cellMetadata": {
      "byteLimit": 2048000,
      "rowLimit": 10000
     },
     "inputWidgets": {},
     "nuid": "ea759fc8-1d78-4d6d-b571-e2e256448b76",
     "showTitle": false,
     "title": ""
    }
   },
   "outputs": [],
   "source": [
    "# Get the notebooks ending time note START_TIME was established in the include file when the notebook started.\n",
    "END_TIME = time.time()\n",
    "print(\"Elapsed time: \", END_TIME - START_TIME)"
   ]
  },
  {
   "cell_type": "markdown",
   "metadata": {
    "application/vnd.databricks.v1+cell": {
     "cellMetadata": {
      "byteLimit": 2048000,
      "rowLimit": 10000
     },
     "inputWidgets": {},
     "nuid": "b88fc0e5-f50c-4ed1-9480-16a4c8a44b30",
     "showTitle": false,
     "title": ""
    }
   },
   "source": [
    "## 10.0 How Optimized is your Spark Application (Grad Students Only)\n",
    "Graduate students (registered for the DSCC-402 section of the course) are required to do this section.  This is a written analysis using the Spark UI (link to screen shots) that support your analysis of your pipelines execution and what is driving its performance.\n",
    "Recall that Spark Optimization has 5 significant dimensions of considertation:\n",
    "- Spill: write to executor disk due to lack of memory\n",
    "- Skew: imbalance in partition size\n",
    "- Shuffle: network io moving data between executors (wide transforms)\n",
    "- Storage: inefficiency due to disk storage format (small files, location)\n",
    "- Serialization: distribution of code segments across the cluster\n",
    "\n",
    "Comment on each of the dimentions of performance and how your impelementation is or is not being affected.  Use specific information in the Spark UI to support your description.  \n",
    "\n",
    "Note: you can take sreenshots of the Spark UI from your project runs in databricks and then link to those pictures by storing them as a publicly accessible file on your cloud drive (google, one drive, etc.)\n",
    "\n",
    "References:\n",
    "- [Spark UI Reference Reference](https://spark.apache.org/docs/latest/web-ui.html#web-ui)\n",
    "- [Spark UI Simulator](https://www.databricks.training/spark-ui-simulator/index.html)"
   ]
  },
  {
   "cell_type": "markdown",
   "metadata": {
    "application/vnd.databricks.v1+cell": {
     "cellMetadata": {
      "byteLimit": 2048000,
      "rowLimit": 10000
     },
     "inputWidgets": {},
     "nuid": "a0a5707d-a5ca-4e87-9e74-3b13d00337b0",
     "showTitle": false,
     "title": ""
    }
   },
   "source": [
    "1. Data Spill: The system shows no data spillage, as evidenced by the uniformity in partition sizes and the small size of the source files. This ensures optimal use of disk resources and prevents I/O bottlenecks during data processing.\n",
    "2. Data Skew: Absence of data skew is confirmed through the consistent file sizes and the effective application of Adaptive Query Execution (AQE), which dynamically optimizes the distribution of data across partitions. This balance eliminates the risk of overloading specific nodes, thereby enhancing overall job performance.\n",
    "3. Shuffle Operations: Extensive shuffle operations are necessitated by complex transformations such as GroupBy, OrderBy, Aggregate, and Explode. Optimally configuring the shuffle partitions to align with the number of available processor cores minimizes cross-partition data transfer and reduces shuffle-related latency.\n",
    "4. Storage Optimization: The initial storage of JSON files in the S3 bucket is characterized by a high count of small files, leading to inefficient read operations. Improvements are necessary at the ingestion stage, possibly through pre-processing steps that consolidate files into larger units for more efficient batch reading.\n",
    "5. Serialization Efficiency: The serialization of the ML model into a deployable format via a User Defined Function (UDF) is identified as the most time-consuming step in the workflow. Given the inefficiencies of UDFs in Spark, exploring alternative built-in Spark functions for equivalent tasks could yield significant performance gains, reducing both execution time and computational overhead."
   ]
  }
 ],
 "metadata": {
  "application/vnd.databricks.v1+notebook": {
   "dashboards": [
    {
     "elements": [],
     "globalVars": {},
     "guid": "",
     "layoutOption": {
      "grid": true,
      "stack": true
     },
     "nuid": "704fbacf-ff30-4bed-a529-de90da1ee925",
     "origId": 205537447461511,
     "title": "Visualizations",
     "version": "DashboardViewV1",
     "width": 1024
    }
   ],
   "language": "python",
   "notebookMetadata": {
    "mostRecentlyExecutedCommandWithImplicitDF": {
     "commandId": 1599202439942547,
     "dataframes": [
      "_sqldf"
     ]
    },
    "pythonIndentUnit": 4,
    "widgetLayout": [
     {
      "breakBefore": false,
      "name": "clear_previous_run",
      "width": 203
     },
     {
      "breakBefore": false,
      "name": "stop_streams",
      "width": 203
     }
    ]
   },
   "notebookName": "Starter Streaming Tweet Sentiment - Spring 2024 Final Project",
   "widgets": {
    "clear_previous_run": {
     "currentValue": "No",
     "nuid": "11b43403-c70f-41ef-ab0e-41172583baaa",
     "typedWidgetInfo": null,
     "widgetInfo": {
      "widgetType": "dropdown",
      "defaultValue": "No",
      "label": null,
      "name": "clear_previous_run",
      "options": {
       "widgetType": "dropdown",
       "autoCreated": null,
       "choices": [
        "No",
        "Yes"
       ]
      }
     }
    },
    "optimize_tables": {
     "currentValue": "No",
     "nuid": "268623a0-d58e-4321-b9d0-3ca96139c4fb",
     "typedWidgetInfo": null,
     "widgetInfo": {
      "widgetType": "dropdown",
      "defaultValue": "No",
      "label": null,
      "name": "optimize_tables",
      "options": {
       "widgetType": "dropdown",
       "autoCreated": null,
       "choices": [
        "No",
        "Yes"
       ]
      }
     }
    },
    "stop_streams": {
     "currentValue": "No",
     "nuid": "e1249e39-bed8-4aea-adae-5ed2d07f61dd",
     "typedWidgetInfo": null,
     "widgetInfo": {
      "widgetType": "dropdown",
      "defaultValue": "No",
      "label": null,
      "name": "stop_streams",
      "options": {
       "widgetType": "dropdown",
       "autoCreated": null,
       "choices": [
        "No",
        "Yes"
       ]
      }
     }
    }
   }
  }
 },
 "nbformat": 4,
 "nbformat_minor": 0
}
